{
 "cells": [
  {
   "cell_type": "markdown",
   "metadata": {},
   "source": [
    "# Eliminación Gaussiana con sustitución hacia atrás"
   ]
  },
  {
   "cell_type": "code",
   "execution_count": 5,
   "metadata": {},
   "outputs": [],
   "source": [
    "%load_ext autoreload"
   ]
  },
  {
   "cell_type": "code",
   "execution_count": 13,
   "metadata": {},
   "outputs": [
    {
     "name": "stdout",
     "output_type": "stream",
     "text": [
      "[07-06 08:34:19][INFO] 2024-07-06 08:34:19.347279\n",
      "[07-06 08:34:19][INFO] \n",
      "[[  1   0   2  -1   1   2]\n",
      " [  0   1  -5   3  -5   3]\n",
      " [  0  -2  -1   1  -1  -5]\n",
      " [  0   1 -10   3   2   0]\n",
      " [  0  -1  -3   0   0   1]]\n",
      "[07-06 08:34:19][INFO] \n",
      "[[  1   0   2  -1   1   2]\n",
      " [  0   1  -5   3  -5   3]\n",
      " [  0   0 -11   7 -11   1]\n",
      " [  0   0  -5   0   7  -3]\n",
      " [  0   0  -8   3  -5   4]]\n",
      "[07-06 08:34:19][INFO] \n",
      "[[  1   0   2  -1   1   2]\n",
      " [  0   1  -5   3  -5   3]\n",
      " [  0   0  -5   0   7  -3]\n",
      " [  0   0   0   7 -26   7]\n",
      " [  0   0   0   3 -16   8]]\n",
      "[07-06 08:34:19][INFO] \n",
      "[[  1   0   2  -1   1   2]\n",
      " [  0   1  -5   3  -5   3]\n",
      " [  0   0  -5   0   7  -3]\n",
      " [  0   0   0   3 -16   8]\n",
      " [  0   0   0   0  11 -11]]\n",
      "18 16\n"
     ]
    },
    {
     "data": {
      "text/plain": [
       "array([ 1.93333333,  2.        , -0.8       , -2.66666667, -1.        ])"
      ]
     },
     "execution_count": 13,
     "metadata": {},
     "output_type": "execute_result"
    }
   ],
   "source": [
    "%autoreload 2\n",
    "from src import eliminacion_gaussiana\n",
    "\n",
    "A = [[2, 1, -1,1, -3, 7], [1, 0, 2, -1, 1, 2], [0, -2, -1, 1, -1,-5], [3, 1, -4, 0, 5,6], [1, -1, -1, -1, 1,3]]\n",
    "\n",
    "eliminacion_gaussiana(A)"
   ]
  },
  {
   "cell_type": "code",
   "execution_count": null,
   "metadata": {},
   "outputs": [],
   "source": [
    "%autoreload 2\n",
    "from src import eliminacion_gaussiana\n",
    "\n",
    "A = [[4, 1, 2, 9], [2, 4, -1, -5], [1, 1, -3, -9]]\n",
    "\n",
    "eliminacion_gaussiana(A)"
   ]
  },
  {
   "cell_type": "markdown",
   "metadata": {},
   "source": [
    "# Soluciones infinitas\n",
    "El siguiente sistema de ecuaciones tiene soluciones infinitas:\n",
    "\n",
    "|   |   |   |   |\n",
    "|---|---|---|---|\n",
    "| 1 | 1 | 1 | 4 |\n",
    "| 2 | 2 | 1 | 6 |\n",
    "| 1 | 1 | 2 | 6 |\n",
    "\n",
    "\n"
   ]
  },
  {
   "cell_type": "code",
   "execution_count": null,
   "metadata": {},
   "outputs": [
    {
     "ename": "ValueError",
     "evalue": "No existe solución única.",
     "output_type": "error",
     "traceback": [
      "\u001b[1;31m---------------------------------------------------------------------------\u001b[0m",
      "\u001b[1;31mValueError\u001b[0m                                Traceback (most recent call last)",
      "Cell \u001b[1;32mIn[7], line 7\u001b[0m\n\u001b[0;32m      3\u001b[0m \u001b[38;5;28;01mfrom\u001b[39;00m \u001b[38;5;21;01msrc\u001b[39;00m \u001b[38;5;28;01mimport\u001b[39;00m eliminacion_gaussiana\n\u001b[0;32m      5\u001b[0m A \u001b[38;5;241m=\u001b[39m [[\u001b[38;5;241m1\u001b[39m, \u001b[38;5;241m1\u001b[39m, \u001b[38;5;241m1\u001b[39m, \u001b[38;5;241m4\u001b[39m], [\u001b[38;5;241m2\u001b[39m, \u001b[38;5;241m2\u001b[39m, \u001b[38;5;241m1\u001b[39m, \u001b[38;5;241m6\u001b[39m], [\u001b[38;5;241m1\u001b[39m, \u001b[38;5;241m1\u001b[39m, \u001b[38;5;241m2\u001b[39m, \u001b[38;5;241m6\u001b[39m]]\n\u001b[1;32m----> 7\u001b[0m \u001b[43meliminacion_gaussiana\u001b[49m\u001b[43m(\u001b[49m\u001b[43mA\u001b[49m\u001b[43m)\u001b[49m\n",
      "File \u001b[1;32mc:\\Users\\Laboratorio IA\\OneDrive\\doctorado\\profesor\\2024 - A\\Métodos numéricos\\clases\\python\\src\\gaussian_elimination.py:65\u001b[0m, in \u001b[0;36meliminacion_gaussiana\u001b[1;34m(A)\u001b[0m\n\u001b[0;32m     61\u001b[0m         p \u001b[38;5;241m=\u001b[39m pi\n\u001b[0;32m     63\u001b[0m \u001b[38;5;28;01mif\u001b[39;00m p \u001b[38;5;129;01mis\u001b[39;00m \u001b[38;5;28;01mNone\u001b[39;00m:\n\u001b[0;32m     64\u001b[0m     \u001b[38;5;66;03m# no pivot found.\u001b[39;00m\n\u001b[1;32m---> 65\u001b[0m     \u001b[38;5;28;01mraise\u001b[39;00m \u001b[38;5;167;01mValueError\u001b[39;00m(\u001b[38;5;124m\"\u001b[39m\u001b[38;5;124mNo existe solución única.\u001b[39m\u001b[38;5;124m\"\u001b[39m)\n\u001b[0;32m     67\u001b[0m \u001b[38;5;28;01mif\u001b[39;00m p \u001b[38;5;241m!=\u001b[39m i:\n\u001b[0;32m     68\u001b[0m     \u001b[38;5;66;03m# swap rows\u001b[39;00m\n\u001b[0;32m     69\u001b[0m     _aux \u001b[38;5;241m=\u001b[39m A[i, :]\u001b[38;5;241m.\u001b[39mcopy()\n",
      "\u001b[1;31mValueError\u001b[0m: No existe solución única."
     ]
    }
   ],
   "source": [
    "# %load_ext autoreload\n",
    "%autoreload 2\n",
    "from src import eliminacion_gaussiana\n",
    "\n",
    "A = [[1, 1, 1, 4], [2, 2, 1, 6], [1, 1, 2, 6]]\n",
    "\n",
    "eliminacion_gaussiana(A)"
   ]
  },
  {
   "cell_type": "markdown",
   "metadata": {},
   "source": [
    "# Sin solución\n",
    "El siguiente sistema de ecuaciones no tiene solución:\n",
    "\n",
    "|   |   |   |   |\n",
    "|---|---|---|---|\n",
    "| 1 | 1 | 1 | 4 |\n",
    "| 2 | 2 | 1 | 4 |\n",
    "| 1 | 1 | 2 | 6 |"
   ]
  },
  {
   "cell_type": "code",
   "execution_count": 8,
   "metadata": {},
   "outputs": [
    {
     "ename": "ValueError",
     "evalue": "No existe solución única.",
     "output_type": "error",
     "traceback": [
      "\u001b[1;31m---------------------------------------------------------------------------\u001b[0m",
      "\u001b[1;31mValueError\u001b[0m                                Traceback (most recent call last)",
      "Cell \u001b[1;32mIn[8], line 7\u001b[0m\n\u001b[0;32m      3\u001b[0m \u001b[38;5;28;01mfrom\u001b[39;00m \u001b[38;5;21;01msrc\u001b[39;00m \u001b[38;5;28;01mimport\u001b[39;00m eliminacion_gaussiana\n\u001b[0;32m      5\u001b[0m A \u001b[38;5;241m=\u001b[39m [[\u001b[38;5;241m1\u001b[39m, \u001b[38;5;241m1\u001b[39m, \u001b[38;5;241m1\u001b[39m, \u001b[38;5;241m4\u001b[39m], [\u001b[38;5;241m2\u001b[39m, \u001b[38;5;241m2\u001b[39m, \u001b[38;5;241m1\u001b[39m, \u001b[38;5;241m4\u001b[39m], [\u001b[38;5;241m1\u001b[39m, \u001b[38;5;241m1\u001b[39m, \u001b[38;5;241m2\u001b[39m, \u001b[38;5;241m6\u001b[39m]]\n\u001b[1;32m----> 7\u001b[0m \u001b[43meliminacion_gaussiana\u001b[49m\u001b[43m(\u001b[49m\u001b[43mA\u001b[49m\u001b[43m)\u001b[49m\n",
      "File \u001b[1;32mc:\\Users\\Laboratorio IA\\OneDrive\\doctorado\\profesor\\2024 - A\\Métodos numéricos\\clases\\python\\src\\gaussian_elimination.py:65\u001b[0m, in \u001b[0;36meliminacion_gaussiana\u001b[1;34m(A)\u001b[0m\n\u001b[0;32m     61\u001b[0m         p \u001b[38;5;241m=\u001b[39m pi\n\u001b[0;32m     63\u001b[0m \u001b[38;5;28;01mif\u001b[39;00m p \u001b[38;5;129;01mis\u001b[39;00m \u001b[38;5;28;01mNone\u001b[39;00m:\n\u001b[0;32m     64\u001b[0m     \u001b[38;5;66;03m# no pivot found.\u001b[39;00m\n\u001b[1;32m---> 65\u001b[0m     \u001b[38;5;28;01mraise\u001b[39;00m \u001b[38;5;167;01mValueError\u001b[39;00m(\u001b[38;5;124m\"\u001b[39m\u001b[38;5;124mNo existe solución única.\u001b[39m\u001b[38;5;124m\"\u001b[39m)\n\u001b[0;32m     67\u001b[0m \u001b[38;5;28;01mif\u001b[39;00m p \u001b[38;5;241m!=\u001b[39m i:\n\u001b[0;32m     68\u001b[0m     \u001b[38;5;66;03m# swap rows\u001b[39;00m\n\u001b[0;32m     69\u001b[0m     _aux \u001b[38;5;241m=\u001b[39m A[i, :]\u001b[38;5;241m.\u001b[39mcopy()\n",
      "\u001b[1;31mValueError\u001b[0m: No existe solución única."
     ]
    }
   ],
   "source": [
    "# %load_ext autoreload\n",
    "%autoreload 2\n",
    "from src import eliminacion_gaussiana\n",
    "\n",
    "A = [[1, 1, 1, 4], [2, 2, 1, 4], [1, 1, 2, 6]]\n",
    "\n",
    "eliminacion_gaussiana(A)"
   ]
  }
 ],
 "metadata": {
  "kernelspec": {
   "display_name": "Python 3",
   "language": "python",
   "name": "python3"
  },
  "language_info": {
   "codemirror_mode": {
    "name": "ipython",
    "version": 3
   },
   "file_extension": ".py",
   "mimetype": "text/x-python",
   "name": "python",
   "nbconvert_exporter": "python",
   "pygments_lexer": "ipython3",
   "version": "3.12.3"
  }
 },
 "nbformat": 4,
 "nbformat_minor": 2
}
